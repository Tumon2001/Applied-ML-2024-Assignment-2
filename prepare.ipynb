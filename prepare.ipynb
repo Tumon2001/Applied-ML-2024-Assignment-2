{
 "cells": [
  {
   "cell_type": "markdown",
   "metadata": {},
   "source": [
    "# Initializing Git and DVC"
   ]
  },
  {
   "cell_type": "code",
   "execution_count": 14,
   "metadata": {
    "vscode": {
     "languageId": "shellscript"
    }
   },
   "outputs": [
    {
     "name": "stdout",
     "output_type": "stream",
     "text": [
      "\u001b[33mhint: Using 'master' as the name for the initial branch. This default branch name\u001b[m\n",
      "\u001b[33mhint: is subject to change. To configure the initial branch name to use in all\u001b[m\n",
      "\u001b[33mhint: of your new repositories, which will suppress this warning, call:\u001b[m\n",
      "\u001b[33mhint: \u001b[m\n",
      "\u001b[33mhint: \tgit config --global init.defaultBranch <name>\u001b[m\n",
      "\u001b[33mhint: \u001b[m\n",
      "\u001b[33mhint: Names commonly chosen instead of 'master' are 'main', 'trunk' and\u001b[m\n",
      "\u001b[33mhint: 'development'. The just-created branch can be renamed via this command:\u001b[m\n",
      "\u001b[33mhint: \u001b[m\n",
      "\u001b[33mhint: \tgit branch -m <name>\u001b[m\n",
      "Initialized empty Git repository in /home/tumon/Applied ML HW 2/.git/\n",
      "Initialized DVC repository.\n",
      "\n",
      "You can now commit the changes to git.\n",
      "\n",
      "\u001b[31m+---------------------------------------------------------------------+\n",
      "\u001b[0m\u001b[31m|\u001b[0m                                                                     \u001b[31m|\u001b[0m\n",
      "\u001b[31m|\u001b[0m        DVC has enabled anonymous aggregate usage analytics.         \u001b[31m|\u001b[0m\n",
      "\u001b[31m|\u001b[0m     Read the analytics documentation (and how to opt-out) here:     \u001b[31m|\u001b[0m\n",
      "\u001b[31m|\u001b[0m             <\u001b[36mhttps://dvc.org/doc/user-guide/analytics\u001b[39m>              \u001b[31m|\u001b[0m\n",
      "\u001b[31m|\u001b[0m                                                                     \u001b[31m|\u001b[0m\n",
      "\u001b[31m+---------------------------------------------------------------------+\n",
      "\u001b[0m\n",
      "\u001b[33mWhat's next?\u001b[39m\n",
      "\u001b[33m------------\u001b[39m\n",
      "- Check out the documentation: <\u001b[36mhttps://dvc.org/doc\u001b[39m>\n",
      "- Get help and share ideas: <\u001b[36mhttps://dvc.org/chat\u001b[39m>\n",
      "- Star us on GitHub: <\u001b[36mhttps://github.com/iterative/dvc\u001b[39m>\n",
      "\u001b[0m"
     ]
    }
   ],
   "source": [
    "!git init\n",
    "!dvc init"
   ]
  },
  {
   "cell_type": "markdown",
   "metadata": {},
   "source": [
    "# Setting up Google Drive as remote storage"
   ]
  },
  {
   "cell_type": "code",
   "execution_count": 15,
   "metadata": {
    "vscode": {
     "languageId": "shellscript"
    }
   },
   "outputs": [
    {
     "name": "stdout",
     "output_type": "stream",
     "text": [
      "Setting 'mydrive' as a default remote.\n",
      "\u001b[0m\u001b[0m[master (root-commit) 1b5cef5] Setting up Google Drive as remote storage\n",
      " 3 files changed, 11 insertions(+)\n",
      " create mode 100644 .dvc/.gitignore\n",
      " create mode 100644 .dvc/config\n",
      " create mode 100644 .dvcignore\n"
     ]
    }
   ],
   "source": [
    "!dvc remote add -d mydrive gdrive://1p8FTb9WfN3xc5iKgM179xZleZyQm_Oom\n",
    "!dvc remote modify mydrive gdrive_acknowledge_abuse true\n",
    "!git add .dvc/config\n",
    "!git commit -m \"Setting up Google Drive as remote storage\""
   ]
  },
  {
   "cell_type": "markdown",
   "metadata": {},
   "source": [
    "# Importing necessary libraries"
   ]
  },
  {
   "cell_type": "code",
   "execution_count": 16,
   "metadata": {},
   "outputs": [],
   "source": [
    "import pandas\n",
    "from sklearn.model_selection import train_test_split"
   ]
  },
  {
   "cell_type": "markdown",
   "metadata": {},
   "source": [
    "# Adding raw data using DVC and Git"
   ]
  },
  {
   "cell_type": "code",
   "execution_count": 17,
   "metadata": {
    "vscode": {
     "languageId": "shellscript"
    }
   },
   "outputs": [
    {
     "name": "stdout",
     "output_type": "stream",
     "text": [
      "\u001b[?25l\u001b[32m⠋\u001b[0m Checking graph                                       core\u001b[39m>\n",
      "Adding...                                                                       \n",
      "!\u001b[A\n",
      "Collecting files and computing hashes in raw_data.csv |0.00 [00:00,     ?file/s]\u001b[A\n",
      "                                                                                \u001b[A\n",
      "!\u001b[A\n",
      "  0% Checking cache in '/home/tumon/Applied ML HW 2/.dvc/cache/files/md5'| |0/? \u001b[A\n",
      "                                                                                \u001b[A\n",
      "!\u001b[A\n",
      "  0%|          |Adding raw_data.csv to cache          0/1 [00:00<?,     ?file/s]\u001b[A\n",
      "                                                                                \u001b[A\n",
      "!\u001b[A\n",
      "  0%|          |Checking out /home/tumon/Applied ML HW0/1 [00:00<?,    ?files/s]\u001b[A\n",
      "100% Adding...|████████████████████████████████████████|1/1 [00:00, 12.81file/s]\u001b[A\n",
      "\n",
      "To track the changes with git, run:\n",
      "\n",
      "\tgit add raw_data.csv.dvc .gitignore\n",
      "\n",
      "To enable auto staging, run:\n",
      "\n",
      "\tdvc config core.autostage true\n",
      "\u001b[0m                                                                            [master 7c7e9f9] Added the raw data\n",
      " 4 files changed, 642 insertions(+)\n",
      " create mode 100644 .gitignore\n",
      " create mode 100644 prepare.ipynb\n",
      " create mode 100644 raw_data.csv.dvc\n",
      " create mode 100644 train.ipynb\n"
     ]
    }
   ],
   "source": [
    "!dvc add raw_data.csv\n",
    "!dvc commit\n",
    "\n",
    "!git add .\n",
    "!git commit -m \"Added the raw data\""
   ]
  },
  {
   "cell_type": "markdown",
   "metadata": {},
   "source": [
    "# Splitting the raw data"
   ]
  },
  {
   "cell_type": "code",
   "execution_count": 19,
   "metadata": {},
   "outputs": [],
   "source": [
    "# Split data into train/validation/test sets\n",
    "train, test = train_test_split(pandas.read_csv(\"raw_data.csv\"), test_size = 0.2, random_state = 1)\n",
    "train, validation = train_test_split(train, test_size = 0.25, random_state = 1)\n",
    "\n",
    "# Save split data into CSV files\n",
    "train.to_csv(\"train.csv\", index = False)\n",
    "validation.to_csv(\"validation.csv\", index = False)\n",
    "test.to_csv(\"test.csv\", index = False)"
   ]
  },
  {
   "cell_type": "markdown",
   "metadata": {},
   "source": [
    "# Adding splits using DVC and Git"
   ]
  },
  {
   "cell_type": "code",
   "execution_count": 20,
   "metadata": {
    "vscode": {
     "languageId": "shellscript"
    }
   },
   "outputs": [
    {
     "name": "stdout",
     "output_type": "stream",
     "text": [
      "\u001b[?25l\u001b[32m⠋\u001b[0m Checking graph                                       core\u001b[39m>\n",
      "  0% Adding...|                          | train.csv |0/3 [00:00<?,     ?file/s]\n",
      "!\u001b[A\n",
      "Collecting files and computing hashes in train.csv    |0.00 [00:00,     ?file/s]\u001b[A\n",
      "                                                                                \u001b[A\n",
      "!\u001b[A\n",
      "  0% Checking cache in '/home/tumon/Applied ML HW 2/.dvc/cache/files/md5'| |0/? \u001b[A\n",
      "                                                                                \u001b[A\n",
      "!\u001b[A\n",
      "  0%|          |Adding train.csv to cache             0/1 [00:00<?,     ?file/s]\u001b[A\n",
      "                                                                                \u001b[A\n",
      "!\u001b[A\n",
      "  0%|          |Checking out /home/tumon/Applied ML HW0/1 [00:00<?,    ?files/s]\u001b[A\n",
      "  0% Adding...|                     | validation.csv |0/3 [00:00<?,     ?file/s]\u001b[A\n",
      "!\u001b[A\n",
      "Collecting files and computing hashes in validation.csv |0.00 [00:00,     ?file/\u001b[A\n",
      "                                                                                \u001b[A\n",
      "!\u001b[A\n",
      "  0% Checking cache in '/home/tumon/Applied ML HW 2/.dvc/cache/files/md5'| |0/? \u001b[A\n",
      "                                                                                \u001b[A\n",
      "!\u001b[A\n",
      "  0%|          |Adding validation.csv to cache        0/1 [00:00<?,     ?file/s]\u001b[A\n",
      "                                                                                \u001b[A\n",
      "!\u001b[A\n",
      "  0%|          |Checking out /home/tumon/Applied ML HW0/1 [00:00<?,    ?files/s]\u001b[A\n",
      "  0% Adding...|                           | test.csv |0/3 [00:00<?,     ?file/s]\u001b[A\n",
      "!\u001b[A\n",
      "Collecting files and computing hashes in test.csv     |0.00 [00:00,     ?file/s]\u001b[A\n",
      "                                                                                \u001b[A\n",
      "!\u001b[A\n",
      "  0% Checking cache in '/home/tumon/Applied ML HW 2/.dvc/cache/files/md5'| |0/? \u001b[A\n",
      "                                                                                \u001b[A\n",
      "!\u001b[A\n",
      "  0%|          |Adding test.csv to cache              0/1 [00:00<?,     ?file/s]\u001b[A\n",
      "                                                                                \u001b[A\n",
      "!\u001b[A\n",
      "  0%|          |Checking out /home/tumon/Applied ML HW0/1 [00:00<?,    ?files/s]\u001b[A\n",
      "100% Adding...|████████████████████████████████████████|3/3 [00:00, 32.11file/s]\u001b[A\n",
      "\n",
      "To track the changes with git, run:\n",
      "\n",
      "\tgit add validation.csv.dvc test.csv.dvc .gitignore train.csv.dvc\n",
      "\n",
      "To enable auto staging, run:\n",
      "\n",
      "\tdvc config core.autostage true\n",
      "\u001b[0m                                                                            [master 62ef8e1] Added splits\n",
      " 4 files changed, 18 insertions(+)\n",
      " create mode 100644 test.csv.dvc\n",
      " create mode 100644 train.csv.dvc\n",
      " create mode 100644 validation.csv.dvc\n"
     ]
    }
   ],
   "source": [
    "!dvc add train.csv validation.csv test.csv\n",
    "!dvc commit\n",
    "\n",
    "!git add .\n",
    "!git commit -m \"Added splits\""
   ]
  },
  {
   "cell_type": "markdown",
   "metadata": {},
   "source": [
    "# Splitting the raw data using a different random seed"
   ]
  },
  {
   "cell_type": "code",
   "execution_count": 21,
   "metadata": {},
   "outputs": [],
   "source": [
    "# Split data into train/validation/test sets\n",
    "train, test = train_test_split(pandas.read_csv(\"raw_data.csv\"), test_size = 0.2, random_state = 20)\n",
    "train, validation = train_test_split(train, test_size = 0.25, random_state = 20)\n",
    "\n",
    "# Save split data into CSV files\n",
    "train.to_csv(\"train.csv\", index = False)\n",
    "validation.to_csv(\"validation.csv\", index = False)\n",
    "test.to_csv(\"test.csv\", index = False)"
   ]
  },
  {
   "cell_type": "markdown",
   "metadata": {},
   "source": [
    "# Adding the new splits using DVC and Git"
   ]
  },
  {
   "cell_type": "code",
   "execution_count": 22,
   "metadata": {
    "vscode": {
     "languageId": "shellscript"
    }
   },
   "outputs": [
    {
     "name": "stdout",
     "output_type": "stream",
     "text": [
      "\u001b[?25l\u001b[32m⠋\u001b[0m Checking graph                                       core\u001b[39m>\n",
      "  0% Adding...|                          | train.csv |0/3 [00:00<?,     ?file/s]\n",
      "!\u001b[A\n",
      "Collecting files and computing hashes in train.csv    |0.00 [00:00,     ?file/s]\u001b[A\n",
      "                                                                                \u001b[A\n",
      "!\u001b[A\n",
      "  0% Checking cache in '/home/tumon/Applied ML HW 2/.dvc/cache/files/md5'| |0/? \u001b[A\n",
      "                                                                                \u001b[A\n",
      "!\u001b[A\n",
      "  0%|          |Adding train.csv to cache             0/1 [00:00<?,     ?file/s]\u001b[A\n",
      "                                                                                \u001b[A\n",
      "!\u001b[A\n",
      "  0%|          |Checking out /home/tumon/Applied ML HW0/1 [00:00<?,    ?files/s]\u001b[A\n",
      "  0% Adding...|                     | validation.csv |0/3 [00:00<?,     ?file/s]\u001b[A\n",
      "!\u001b[A\n",
      "Collecting files and computing hashes in validation.csv |0.00 [00:00,     ?file/\u001b[A\n",
      "                                                                                \u001b[A\n",
      "!\u001b[A\n",
      "  0% Checking cache in '/home/tumon/Applied ML HW 2/.dvc/cache/files/md5'| |0/? \u001b[A\n",
      "                                                                                \u001b[A\n",
      "!\u001b[A\n",
      "  0%|          |Adding validation.csv to cache        0/1 [00:00<?,     ?file/s]\u001b[A\n",
      "                                                                                \u001b[A\n",
      "!\u001b[A\n",
      "  0%|          |Checking out /home/tumon/Applied ML HW0/1 [00:00<?,    ?files/s]\u001b[A\n",
      "  0% Adding...|                           | test.csv |0/3 [00:00<?,     ?file/s]\u001b[A\n",
      "!\u001b[A\n",
      "Collecting files and computing hashes in test.csv     |0.00 [00:00,     ?file/s]\u001b[A\n",
      "                                                                                \u001b[A\n",
      "!\u001b[A\n",
      "  0% Checking cache in '/home/tumon/Applied ML HW 2/.dvc/cache/files/md5'| |0/? \u001b[A\n",
      "                                                                                \u001b[A\n",
      "!\u001b[A\n",
      "  0%|          |Adding test.csv to cache              0/1 [00:00<?,     ?file/s]\u001b[A\n",
      "                                                                                \u001b[A\n",
      "!\u001b[A\n",
      "  0%|          |Checking out /home/tumon/Applied ML HW0/1 [00:00<?,    ?files/s]\u001b[A\n",
      "100% Adding...|████████████████████████████████████████|3/3 [00:00, 38.45file/s]\u001b[A\n",
      "\n",
      "To track the changes with git, run:\n",
      "\n",
      "\tgit add validation.csv.dvc test.csv.dvc train.csv.dvc\n",
      "\n",
      "To enable auto staging, run:\n",
      "\n",
      "\tdvc config core.autostage true\n",
      "\u001b[0m                                                                            [master f4a612e] Updated the new splits\n",
      " 3 files changed, 6 insertions(+), 6 deletions(-)\n"
     ]
    }
   ],
   "source": [
    "!dvc add train.csv validation.csv test.csv\n",
    "!dvc commit\n",
    "\n",
    "!git add .\n",
    "!git commit -m \"Updated the new splits\""
   ]
  },
  {
   "cell_type": "markdown",
   "metadata": {},
   "source": [
    "# Checking out the first version using DVC"
   ]
  },
  {
   "cell_type": "code",
   "execution_count": 23,
   "metadata": {
    "vscode": {
     "languageId": "shellscript"
    }
   },
   "outputs": [
    {
     "name": "stdout",
     "output_type": "stream",
     "text": [
      "Updated 3 paths from 610927d\n",
      "Building workspace index                              |4.00 [00:00,  127entry/s]\n",
      "Comparing indexes                                    |5.00 [00:00, 2.15kentry/s]\n",
      "Applying changes                                      |3.00 [00:00, 1.01kfile/s]\n",
      "\u001b[33mM\u001b[0m       train.csv\n",
      "\u001b[33mM\u001b[0m       test.csv\n",
      "\u001b[33mM\u001b[0m       validation.csv\n",
      "\u001b[0m"
     ]
    }
   ],
   "source": [
    "!git checkout 62ef8e1 train.csv.dvc validation.csv.dvc test.csv.dvc\n",
    "!dvc checkout"
   ]
  },
  {
   "cell_type": "markdown",
   "metadata": {},
   "source": [
    "# Printing distribution of target variable in train, validation, and test data"
   ]
  },
  {
   "cell_type": "code",
   "execution_count": 24,
   "metadata": {},
   "outputs": [
    {
     "name": "stdout",
     "output_type": "stream",
     "text": [
      "Distribution of target variable in train.csv:\n",
      "spam\n",
      "0    2624\n",
      "1     812\n",
      "Name: count, dtype: int64\n",
      "\n",
      "Distribution of target variable in validation.csv:\n",
      "spam\n",
      "0    860\n",
      "1    286\n",
      "Name: count, dtype: int64\n",
      "\n",
      "Distribution of target variable in test.csv:\n",
      "spam\n",
      "0    876\n",
      "1    270\n",
      "Name: count, dtype: int64\n"
     ]
    }
   ],
   "source": [
    "# Load the data\n",
    "train_data = pandas.read_csv('train.csv')\n",
    "validation_data = pandas.read_csv('validation.csv')\n",
    "test_data = pandas.read_csv('test.csv')\n",
    "\n",
    "# Print the distribution of the target variable\n",
    "print(\"Distribution of target variable in train.csv:\")\n",
    "print(train_data['spam'].value_counts())\n",
    "\n",
    "print(\"\\nDistribution of target variable in validation.csv:\")\n",
    "print(validation_data['spam'].value_counts())\n",
    "\n",
    "print(\"\\nDistribution of target variable in test.csv:\")\n",
    "print(test_data['spam'].value_counts())\n"
   ]
  },
  {
   "cell_type": "markdown",
   "metadata": {},
   "source": [
    "# Checking out the updated version using DVC"
   ]
  },
  {
   "cell_type": "code",
   "execution_count": 25,
   "metadata": {
    "vscode": {
     "languageId": "shellscript"
    }
   },
   "outputs": [
    {
     "name": "stdout",
     "output_type": "stream",
     "text": [
      "Updated 3 paths from 36138e9\n",
      "Building workspace index                              |4.00 [00:00,  178entry/s]\n",
      "Comparing indexes                                    |5.00 [00:00, 3.01kentry/s]\n",
      "Applying changes                                      |3.00 [00:00,   597file/s]\n",
      "\u001b[33mM\u001b[0m       validation.csv\n",
      "\u001b[33mM\u001b[0m       test.csv\n",
      "\u001b[33mM\u001b[0m       train.csv\n",
      "\u001b[0m"
     ]
    }
   ],
   "source": [
    "!git checkout f4a612e train.csv.dvc validation.csv.dvc test.csv.dvc\n",
    "!dvc checkout"
   ]
  },
  {
   "cell_type": "markdown",
   "metadata": {},
   "source": [
    "# Printing distribution of target variable in train, validation, and test data"
   ]
  },
  {
   "cell_type": "code",
   "execution_count": 26,
   "metadata": {
    "vscode": {
     "languageId": "shellscript"
    }
   },
   "outputs": [
    {
     "name": "stdout",
     "output_type": "stream",
     "text": [
      "Distribution of target variable in train.csv:\n",
      "spam\n",
      "0    2603\n",
      "1     833\n",
      "Name: count, dtype: int64\n",
      "\n",
      "Distribution of target variable in validation.csv:\n",
      "spam\n",
      "0    894\n",
      "1    252\n",
      "Name: count, dtype: int64\n",
      "\n",
      "Distribution of target variable in test.csv:\n",
      "spam\n",
      "0    863\n",
      "1    283\n",
      "Name: count, dtype: int64\n"
     ]
    }
   ],
   "source": [
    "# Load the data\n",
    "train_data = pandas.read_csv('train.csv')\n",
    "validation_data = pandas.read_csv('validation.csv')\n",
    "test_data = pandas.read_csv('test.csv')\n",
    "\n",
    "# Print the distribution of the target variable\n",
    "print(\"Distribution of target variable in train.csv:\")\n",
    "print(train_data['spam'].value_counts())\n",
    "\n",
    "print(\"\\nDistribution of target variable in validation.csv:\")\n",
    "print(validation_data['spam'].value_counts())\n",
    "\n",
    "print(\"\\nDistribution of target variable in test.csv:\")\n",
    "print(test_data['spam'].value_counts()) "
   ]
  },
  {
   "cell_type": "markdown",
   "metadata": {},
   "source": [
    "# Pushing to Google Drive using DVC"
   ]
  },
  {
   "cell_type": "code",
   "execution_count": 27,
   "metadata": {
    "vscode": {
     "languageId": "shellscript"
    }
   },
   "outputs": [
    {
     "name": "stdout",
     "output_type": "stream",
     "text": [
      "Collecting                                            |4.00 [00:00,  267entry/s]\n",
      "Pushing\n",
      "!\u001b[A\n",
      "  0% Checking cache in '1p8FTb9WfN3xc5iKgM179xZleZyQm_Oom/files/md5'| |0/? [00:0\u001b[A\n",
      "                                                                                \u001b[A\n",
      "!\u001b[A\n",
      "  0% Checking cache in '/home/tumon/Applied ML HW 2/.dvc/cache/files/md5'| |0/? \u001b[A\n",
      "                                                                                \u001b[A\n",
      "!\u001b[A\n",
      "  0%|          |Pushing to gdrive                     0/4 [00:00<?,     ?file/s]\u001b[A\n",
      "  0%|          |Pushing to gdrive                     0/4 [00:00<?,     ?file/s]\u001b[A\n",
      "\n",
      "!\u001b[A\u001b[A\n",
      "\n",
      "  0%|          |/home/tumon/Applied ML HW 2/.dv0.00/1.78M [00:00<?,        ?B/s]\u001b[A\u001b[A\n",
      "\n",
      "  0%|          |/home/tumon/Applied ML HW 8.00k/1.78M [00:04<17:48,    1.74kB/s]\u001b[A\u001b[A\n",
      "\n",
      " 15%|█▌        |/home/tumon/Applied ML HW 2280k/1.78M [00:04<00:19,    83.1kB/s]\u001b[A\u001b[A\n",
      "\n",
      " 29%|██▊       |/home/tumon/Applied ML HW 2520k/1.78M [00:04<00:07,     177kB/s]\u001b[A\u001b[A\n",
      "\n",
      " 42%|████▏     |/home/tumon/Applied ML HW 2768k/1.78M [00:05<00:03,     300kB/s]\u001b[A\u001b[A\n",
      "\n",
      " 56%|█████▌    |/home/tumon/Applied ML HW 1.00M/1.78M [00:05<00:01,     447kB/s]\u001b[A\u001b[A\n",
      "\n",
      " 71%|███████   |/home/tumon/Applied ML HW 1.27M/1.78M [00:05<00:00,     645kB/s]\u001b[A\u001b[A\n",
      "\n",
      " 85%|████████▍ |/home/tumon/Applied ML HW 1.51M/1.78M [00:05<00:00,     824kB/s]\u001b[A\u001b[A\n",
      "\n",
      " 98%|█████████▊|/home/tumon/Applied ML HW 1.75M/1.78M [00:05<00:00,    1.01MB/s]\u001b[A\u001b[A\n",
      "\n",
      "                                                                                \u001b[A\u001b[A\n",
      " 25%|██▌       |Pushing to gdrive                 1/4 [00:07<00:21,  7.14s/file]\u001b[A\n",
      "\n",
      "!\u001b[A\u001b[A\n",
      "\n",
      "  0%|          |/home/tumon/Applied ML HW 2/.dv0.00/5.08M [00:00<?,        ?B/s]\u001b[A\u001b[A\n",
      "\n",
      "\n",
      "!\u001b[A\u001b[A\u001b[A\n",
      "\n",
      "\n",
      "  0%|          |/home/tumon/Applied ML HW 2/.dv0.00/1.68M [00:00<?,        ?B/s]\u001b[A\u001b[A\u001b[A\n",
      "\n",
      "\n",
      "\n",
      "!\u001b[A\u001b[A\u001b[A\u001b[A\n",
      "\n",
      "\n",
      "\n",
      "  0%|          |/home/tumon/Applied ML HW 2/.dv0.00/8.54M [00:00<?,        ?B/s]\u001b[A\u001b[A\u001b[A\u001b[A\n",
      "\n",
      "  0%|          |/home/tumon/Applied ML HW 8.00k/5.08M [00:01<21:05,    4.20kB/s]\u001b[A\u001b[A\n",
      "\n",
      "  8%|▊         |/home/tumon/Applied ML HW 2432k/5.08M [00:02<00:16,     290kB/s]\u001b[A\u001b[A\n",
      "\n",
      " 13%|█▎        |/home/tumon/Applied ML HW 2680k/5.08M [00:02<00:09,     473kB/s]\u001b[A\u001b[A\n",
      "\n",
      " 18%|█▊        |/home/tumon/Applied ML HW 2928k/5.08M [00:02<00:06,     671kB/s]\u001b[A\u001b[A\n",
      "\n",
      " 23%|██▎       |/home/tumon/Applied ML HW 1.16M/5.08M [00:02<00:04,     886kB/s]\u001b[A\u001b[A\n",
      "\n",
      " 28%|██▊       |/home/tumon/Applied ML HW 1.40M/5.08M [00:02<00:03,    1.08MB/s]\u001b[A\u001b[A\n",
      "\n",
      "\n",
      "\n",
      "  0%|          |/home/tumon/Applied ML HW 8.00k/8.54M [00:02<48:38,    3.07kB/s]\u001b[A\u001b[A\u001b[A\u001b[A\n",
      "\n",
      " 32%|███▏      |/home/tumon/Applied ML HW 1.64M/5.08M [00:02<00:03,    1.17MB/s]\u001b[A\u001b[A\n",
      "\n",
      "\n",
      "\n",
      "  2%|▏         |/home/tumon/Applied ML HW 2176k/8.54M [00:02<01:42,    85.4kB/s]\u001b[A\u001b[A\u001b[A\u001b[A\n",
      "\n",
      " 37%|███▋      |/home/tumon/Applied ML HW 1.88M/5.08M [00:02<00:02,    1.22MB/s]\u001b[A\u001b[A\n",
      "\n",
      "\n",
      "\n",
      "  3%|▎         |/home/tumon/Applied ML HW 2272k/8.54M [00:02<01:00,     142kB/s]\u001b[A\u001b[A\u001b[A\u001b[A\n",
      "\n",
      "\n",
      "\n",
      "  4%|▍         |/home/tumon/Applied ML HW 2360k/8.54M [00:03<00:41,     206kB/s]\u001b[A\u001b[A\u001b[A\u001b[A\n",
      "\n",
      " 40%|███▉      |/home/tumon/Applied ML HW 2.01M/5.08M [00:03<00:02,    1.18MB/s]\u001b[A\u001b[A\n",
      "\n",
      "\n",
      "\n",
      "  5%|▌         |/home/tumon/Applied ML HW 2448k/8.54M [00:03<00:30,     278kB/s]\u001b[A\u001b[A\u001b[A\u001b[A\n",
      "\n",
      " 42%|████▏     |/home/tumon/Applied ML HW 2.12M/5.08M [00:03<00:02,    1.13MB/s]\u001b[A\u001b[A\n",
      "\n",
      "\n",
      "\n",
      "  6%|▌         |/home/tumon/Applied ML HW 2544k/8.54M [00:03<00:23,     365kB/s]\u001b[A\u001b[A\u001b[A\u001b[A\n",
      "\n",
      " 44%|████▍     |/home/tumon/Applied ML HW 2.25M/5.08M [00:03<00:02,    1.12MB/s]\u001b[A\u001b[A\n",
      "\n",
      "\n",
      "\n",
      "  7%|▋         |/home/tumon/Applied ML HW 2648k/8.54M [00:03<00:17,     465kB/s]\u001b[A\u001b[A\u001b[A\u001b[A\n",
      "\n",
      " 47%|████▋     |/home/tumon/Applied ML HW 2.37M/5.08M [00:03<00:02,    1.09MB/s]\u001b[A\u001b[A\n",
      "\n",
      "\n",
      "\n",
      "  8%|▊         |/home/tumon/Applied ML HW 2736k/8.54M [00:03<00:15,     527kB/s]\u001b[A\u001b[A\u001b[A\u001b[A\n",
      "\n",
      "\n",
      "  0%|          |/home/tumon/Applied ML HW 8.00k/1.68M [00:03<12:45,    2.30kB/s]\u001b[A\u001b[A\u001b[A\n",
      "\n",
      " 49%|████▉     |/home/tumon/Applied ML HW 2.49M/5.08M [00:03<00:02,    1.12MB/s]\u001b[A\u001b[A\n",
      "\n",
      "\n",
      "\n",
      "  9%|▉         |/home/tumon/Applied ML HW 2824k/8.54M [00:03<00:14,     543kB/s]\u001b[A\u001b[A\u001b[A\u001b[A\n",
      "\n",
      " 51%|█████▏    |/home/tumon/Applied ML HW 2.61M/5.08M [00:03<00:02,    1.04MB/s]\u001b[A\u001b[A\n",
      "\n",
      "\n",
      " 10%|▉         |/home/tumon/Applied ML HW 2168k/1.68M [00:03<00:25,    62.9kB/s]\u001b[A\u001b[A\u001b[A\n",
      "\n",
      "\n",
      "\n",
      " 10%|█         |/home/tumon/Applied ML HW 2896k/8.54M [00:03<00:15,     524kB/s]\u001b[A\u001b[A\u001b[A\u001b[A\n",
      "\n",
      " 54%|█████▍    |/home/tumon/Applied ML HW 2.73M/5.08M [00:03<00:02,     984kB/s]\u001b[A\u001b[A\n",
      "\n",
      "\n",
      " 15%|█▍        |/home/tumon/Applied ML HW 2256k/1.68M [00:03<00:14,     102kB/s]\u001b[A\u001b[A\u001b[A\n",
      "\n",
      " 56%|█████▌    |/home/tumon/Applied ML HW 2.85M/5.08M [00:04<00:02,     950kB/s]\u001b[A\u001b[A\n",
      "\n",
      "\n",
      "\n",
      " 11%|█         |/home/tumon/Applied ML HW 2968k/8.54M [00:04<00:16,     483kB/s]\u001b[A\u001b[A\u001b[A\u001b[A\n",
      "\n",
      "\n",
      " 20%|██        |/home/tumon/Applied ML HW 2352k/1.68M [00:04<00:09,     155kB/s]\u001b[A\u001b[A\u001b[A\n",
      "\n",
      " 59%|█████▊    |/home/tumon/Applied ML HW 2.98M/5.08M [00:04<00:02,     948kB/s]\u001b[A\u001b[A\n",
      "\n",
      "\n",
      " 26%|██▌       |/home/tumon/Applied ML HW 2440k/1.68M [00:04<00:06,     205kB/s]\u001b[A\u001b[A\u001b[A\n",
      "\n",
      "\n",
      "\n",
      " 12%|█▏        |/home/tumon/Applied ML HW 1.02M/8.54M [00:04<00:19,     414kB/s]\u001b[A\u001b[A\u001b[A\u001b[A\n",
      "\n",
      " 61%|██████    |/home/tumon/Applied ML HW 3.10M/5.08M [00:04<00:02,     962kB/s]\u001b[A\u001b[A\n",
      "\n",
      "\n",
      " 32%|███▏      |/home/tumon/Applied ML HW 2552k/1.68M [00:04<00:04,     291kB/s]\u001b[A\u001b[A\u001b[A\n",
      "\n",
      " 63%|██████▎   |/home/tumon/Applied ML HW 3.22M/5.08M [00:04<00:02,     930kB/s]\u001b[A\u001b[A\n",
      "\n",
      "\n",
      "\n",
      " 13%|█▎        |/home/tumon/Applied ML HW 1.07M/8.54M [00:04<00:19,     392kB/s]\u001b[A\u001b[A\u001b[A\u001b[A\n",
      "\n",
      "\n",
      " 37%|███▋      |/home/tumon/Applied ML HW 2640k/1.68M [00:04<00:03,     349kB/s]\u001b[A\u001b[A\u001b[A\n",
      "\n",
      " 66%|██████▌   |/home/tumon/Applied ML HW 3.34M/5.08M [00:04<00:02,     904kB/s]\u001b[A\u001b[A\n",
      "\n",
      "\n",
      " 42%|████▏     |/home/tumon/Applied ML HW 2728k/1.68M [00:04<00:02,     413kB/s]\u001b[A\u001b[A\u001b[A\n",
      "\n",
      "\n",
      "\n",
      " 13%|█▎        |/home/tumon/Applied ML HW 1.14M/8.54M [00:04<00:19,     392kB/s]\u001b[A\u001b[A\u001b[A\u001b[A\n",
      "\n",
      " 68%|██████▊   |/home/tumon/Applied ML HW 3.46M/5.08M [00:04<00:01,     884kB/s]\u001b[A\u001b[A\n",
      "\n",
      "\n",
      " 48%|████▊     |/home/tumon/Applied ML HW 2824k/1.68M [00:04<00:01,     478kB/s]\u001b[A\u001b[A\u001b[A\n",
      "\n",
      "\n",
      "\n",
      " 14%|█▍        |/home/tumon/Applied ML HW 1.20M/8.54M [00:05<00:31,     244kB/s]\u001b[A\u001b[A\u001b[A\u001b[A\n",
      "\n",
      "\n",
      "\n",
      " 16%|█▋        |/home/tumon/Applied ML HW 1.40M/8.54M [00:05<00:16,     462kB/s]\u001b[A\u001b[A\u001b[A\u001b[A\n",
      "\n",
      "\n",
      "\n",
      " 19%|█▉        |/home/tumon/Applied ML HW 1.62M/8.54M [00:05<00:10,     723kB/s]\u001b[A\u001b[A\u001b[A\u001b[A\n",
      "\n",
      " 71%|███████   |/home/tumon/Applied ML HW 3.59M/5.08M [00:05<00:04,     357kB/s]\u001b[A\u001b[A\n",
      "\n",
      "\n",
      "\n",
      " 22%|██▏       |/home/tumon/Applied ML HW 1.88M/8.54M [00:05<00:07,     920kB/s]\u001b[A\u001b[A\u001b[A\u001b[A\n",
      "\n",
      " 73%|███████▎  |/home/tumon/Applied ML HW 3.70M/5.08M [00:05<00:03,     441kB/s]\u001b[A\u001b[A\n",
      "\n",
      "\n",
      " 53%|█████▎    |/home/tumon/Applied ML HW 2912k/1.68M [00:05<00:03,     209kB/s]\u001b[A\u001b[A\u001b[A\n",
      "\n",
      "\n",
      "\n",
      " 24%|██▍       |/home/tumon/Applied ML HW 2.03M/8.54M [00:05<00:07,     906kB/s]\u001b[A\u001b[A\u001b[A\u001b[A\n",
      "\n",
      " 75%|███████▌  |/home/tumon/Applied ML HW 3.83M/5.08M [00:05<00:02,     506kB/s]\u001b[A\u001b[A\n",
      "\n",
      "\n",
      " 58%|█████▊    |/home/tumon/Applied ML HW 2992k/1.68M [00:05<00:02,     250kB/s]\u001b[A\u001b[A\u001b[A\n",
      "\n",
      "\n",
      "\n",
      " 25%|██▌       |/home/tumon/Applied ML HW 2.15M/8.54M [00:05<00:07,     862kB/s]\u001b[A\u001b[A\u001b[A\u001b[A\n",
      "\n",
      "\n",
      "\n",
      " 26%|██▌       |/home/tumon/Applied ML HW 2.21M/8.54M [00:06<00:08,     822kB/s]\u001b[A\u001b[A\u001b[A\u001b[A\n",
      "\n",
      " 78%|███████▊  |/home/tumon/Applied ML HW 3.95M/5.08M [00:06<00:02,     558kB/s]\u001b[A\u001b[A\n",
      "\n",
      "\n",
      " 62%|██████▏   |/home/tumon/Applied ML HW 1.05M/1.68M [00:06<00:02,     293kB/s]\u001b[A\u001b[A\u001b[A\n",
      "\n",
      " 80%|████████  |/home/tumon/Applied ML HW 4.07M/5.08M [00:06<00:01,     585kB/s]\u001b[A\u001b[A\n",
      "\n",
      "\n",
      "\n",
      " 27%|██▋       |/home/tumon/Applied ML HW 2.34M/8.54M [00:06<00:08,     773kB/s]\u001b[A\u001b[A\u001b[A\u001b[A\n",
      "\n",
      "\n",
      " 67%|██████▋   |/home/tumon/Applied ML HW 1.12M/1.68M [00:06<00:01,     328kB/s]\u001b[A\u001b[A\u001b[A\n",
      "\n",
      "\n",
      "\n",
      " 28%|██▊       |/home/tumon/Applied ML HW 2.41M/8.54M [00:06<00:08,     733kB/s]\u001b[A\u001b[A\u001b[A\u001b[A\n",
      "\n",
      " 83%|████████▎ |/home/tumon/Applied ML HW 4.20M/5.08M [00:06<00:01,     668kB/s]\u001b[A\u001b[A\n",
      "\n",
      "\n",
      " 71%|███████▏  |/home/tumon/Applied ML HW 1.20M/1.68M [00:06<00:01,     370kB/s]\u001b[A\u001b[A\u001b[A\n",
      "\n",
      " 85%|████████▍ |/home/tumon/Applied ML HW 4.31M/5.08M [00:06<00:01,     731kB/s]\u001b[A\u001b[A\n",
      "\n",
      "\n",
      "\n",
      " 29%|██▉       |/home/tumon/Applied ML HW 2.47M/8.54M [00:06<00:10,     627kB/s]\u001b[A\u001b[A\u001b[A\u001b[A\n",
      "\n",
      "\n",
      " 76%|███████▌  |/home/tumon/Applied ML HW 1.27M/1.68M [00:06<00:01,     387kB/s]\u001b[A\u001b[A\u001b[A\n",
      "\n",
      " 87%|████████▋ |/home/tumon/Applied ML HW 4.44M/5.08M [00:06<00:00,     792kB/s]\u001b[A\u001b[A\n",
      "\n",
      "\n",
      "\n",
      " 30%|██▉       |/home/tumon/Applied ML HW 2.53M/8.54M [00:06<00:10,     587kB/s]\u001b[A\u001b[A\u001b[A\u001b[A\n",
      "\n",
      "\n",
      " 81%|████████  |/home/tumon/Applied ML HW 1.36M/1.68M [00:06<00:00,     437kB/s]\u001b[A\u001b[A\u001b[A\n",
      "\n",
      "\n",
      " 85%|████████▌ |/home/tumon/Applied ML HW 1.44M/1.68M [00:07<00:00,     351kB/s]\u001b[A\u001b[A\u001b[A\n",
      "\n",
      " 90%|████████▉ |/home/tumon/Applied ML HW 4.55M/5.08M [00:07<00:01,     495kB/s]\u001b[A\u001b[A\n",
      "\n",
      " 92%|█████████▏|/home/tumon/Applied ML HW 4.68M/5.08M [00:07<00:00,     602kB/s]\u001b[A\u001b[A\n",
      "\n",
      "\n",
      " 96%|█████████▌|/home/tumon/Applied ML HW 1.62M/1.68M [00:07<00:00,     510kB/s]\u001b[A\u001b[A\u001b[A\n",
      "\n",
      " 95%|█████████▍|/home/tumon/Applied ML HW 4.80M/5.08M [00:07<00:00,     683kB/s]\u001b[A\u001b[A\n",
      "\n",
      " 99%|█████████▉|/home/tumon/Applied ML HW 5.05M/5.08M [00:07<00:00,     918kB/s]\u001b[A\u001b[A\n",
      "\n",
      "\n",
      "\n",
      " 30%|███       |/home/tumon/Applied ML HW 2.59M/8.54M [00:07<00:36,     171kB/s]\u001b[A\u001b[A\u001b[A\u001b[A\n",
      "\n",
      "\n",
      "\n",
      " 32%|███▏      |/home/tumon/Applied ML HW 2.77M/8.54M [00:08<00:19,     309kB/s]\u001b[A\u001b[A\u001b[A\u001b[A\n",
      "\n",
      "\n",
      "\n",
      " 35%|███▍      |/home/tumon/Applied ML HW 2.96M/8.54M [00:08<00:12,     479kB/s]\u001b[A\u001b[A\u001b[A\u001b[A\n",
      "\n",
      "\n",
      "\n",
      " 37%|███▋      |/home/tumon/Applied ML HW 3.20M/8.54M [00:08<00:07,     712kB/s]\u001b[A\u001b[A\u001b[A\u001b[A\n",
      "\n",
      "\n",
      "\n",
      " 40%|████      |/home/tumon/Applied ML HW 3.43M/8.54M [00:08<00:05,     953kB/s]\u001b[A\u001b[A\u001b[A\u001b[A\n",
      "\n",
      "\n",
      "\n",
      " 43%|████▎     |/home/tumon/Applied ML HW 3.63M/8.54M [00:08<00:04,    1.16MB/s]\u001b[A\u001b[A\u001b[A\u001b[A\n",
      "\n",
      "\n",
      "\n",
      " 45%|████▌     |/home/tumon/Applied ML HW 3.88M/8.54M [00:08<00:03,    1.37MB/s]\u001b[A\u001b[A\u001b[A\u001b[A\n",
      "\n",
      "\n",
      "\n",
      " 47%|████▋     |/home/tumon/Applied ML HW 3.99M/8.54M [00:08<00:03,    1.28MB/s]\u001b[A\u001b[A\u001b[A\u001b[A\n",
      "\n",
      "\n",
      "\n",
      " 51%|█████▏    |/home/tumon/Applied ML HW 4.38M/8.54M [00:08<00:02,    1.74MB/s]\u001b[A\u001b[A\u001b[A\u001b[A\n",
      "\n",
      "\n",
      "                                                                                \u001b[A\u001b[A\u001b[A\n",
      " 50%|█████     |Pushing to gdrive                 2/4 [00:16<00:16,  8.17s/file]\u001b[A\n",
      "\n",
      "\n",
      "\n",
      " 54%|█████▍    |/home/tumon/Applied ML HW 4.62M/8.54M [00:08<00:02,    1.78MB/s]\u001b[A\u001b[A\u001b[A\u001b[A\n",
      "\n",
      "\n",
      "\n",
      " 57%|█████▋    |/home/tumon/Applied ML HW 4.87M/8.54M [00:09<00:02,    1.81MB/s]\u001b[A\u001b[A\u001b[A\u001b[A\n",
      "\n",
      "                                                                                \u001b[A\u001b[A\n",
      " 75%|███████▌  |Pushing to gdrive                 3/4 [00:16<00:04,  4.59s/file]\u001b[A\n",
      "\n",
      "\n",
      "\n",
      " 60%|█████▉    |/home/tumon/Applied ML HW 5.11M/8.54M [00:09<00:01,    1.85MB/s]\u001b[A\u001b[A\u001b[A\u001b[A\n",
      "\n",
      "\n",
      "\n",
      " 63%|██████▎   |/home/tumon/Applied ML HW 5.35M/8.54M [00:09<00:01,    1.85MB/s]\u001b[A\u001b[A\u001b[A\u001b[A\n",
      "\n",
      "\n",
      "\n",
      " 66%|██████▌   |/home/tumon/Applied ML HW 5.59M/8.54M [00:09<00:01,    1.86MB/s]\u001b[A\u001b[A\u001b[A\u001b[A\n",
      "\n",
      "\n",
      "\n",
      " 68%|██████▊   |/home/tumon/Applied ML HW 5.84M/8.54M [00:09<00:01,    1.90MB/s]\u001b[A\u001b[A\u001b[A\u001b[A\n",
      "\n",
      "\n",
      "\n",
      " 71%|███████▏  |/home/tumon/Applied ML HW 6.09M/8.54M [00:09<00:01,    1.89MB/s]\u001b[A\u001b[A\u001b[A\u001b[A\n",
      "\n",
      "\n",
      "\n",
      " 73%|███████▎  |/home/tumon/Applied ML HW 6.20M/8.54M [00:09<00:01,    1.67MB/s]\u001b[A\u001b[A\u001b[A\u001b[A\n",
      "\n",
      "\n",
      "\n",
      " 77%|███████▋  |/home/tumon/Applied ML HW 6.56M/8.54M [00:10<00:01,    1.98MB/s]\u001b[A\u001b[A\u001b[A\u001b[A\n",
      "\n",
      "\n",
      "\n",
      " 80%|███████▉  |/home/tumon/Applied ML HW 6.80M/8.54M [00:10<00:00,    1.96MB/s]\u001b[A\u001b[A\u001b[A\u001b[A\n",
      "\n",
      "\n",
      "\n",
      " 83%|████████▎ |/home/tumon/Applied ML HW 7.05M/8.54M [00:10<00:00,    1.96MB/s]\u001b[A\u001b[A\u001b[A\u001b[A\n",
      "\n",
      "\n",
      "\n",
      " 85%|████████▌ |/home/tumon/Applied ML HW 7.30M/8.54M [00:10<00:00,    1.93MB/s]\u001b[A\u001b[A\u001b[A\u001b[A\n",
      "\n",
      "\n",
      "\n",
      " 88%|████████▊ |/home/tumon/Applied ML HW 7.54M/8.54M [00:10<00:00,    1.93MB/s]\u001b[A\u001b[A\u001b[A\u001b[A\n",
      "\n",
      "\n",
      "\n",
      " 91%|█████████ |/home/tumon/Applied ML HW 7.78M/8.54M [00:10<00:00,    1.93MB/s]\u001b[A\u001b[A\u001b[A\u001b[A\n",
      "\n",
      "\n",
      "\n",
      " 94%|█████████▍|/home/tumon/Applied ML HW 8.02M/8.54M [00:10<00:00,    1.92MB/s]\u001b[A\u001b[A\u001b[A\u001b[A\n",
      "\n",
      "\n",
      "\n",
      " 97%|█████████▋|/home/tumon/Applied ML HW 8.27M/8.54M [00:11<00:00,    1.13MB/s]\u001b[A\u001b[A\u001b[A\u001b[A\n",
      "\n",
      "\n",
      "\n",
      "                                                                                \u001b[A\u001b[A\u001b[A\u001b[A\n",
      "100%|██████████|Pushing to gdrive                 4/4 [00:20<00:00,  4.36s/file]\u001b[A\n",
      "Pushing                                                                         \u001b[A\n",
      "4 files pushed\n",
      "\u001b[0m"
     ]
    }
   ],
   "source": [
    "!dvc push"
   ]
  }
 ],
 "metadata": {
  "kernelspec": {
   "display_name": "AML_HW_1",
   "language": "python",
   "name": "python3"
  },
  "language_info": {
   "codemirror_mode": {
    "name": "ipython",
    "version": 3
   },
   "file_extension": ".py",
   "mimetype": "text/x-python",
   "name": "python",
   "nbconvert_exporter": "python",
   "pygments_lexer": "ipython3",
   "version": "3.11.6"
  }
 },
 "nbformat": 4,
 "nbformat_minor": 2
}
