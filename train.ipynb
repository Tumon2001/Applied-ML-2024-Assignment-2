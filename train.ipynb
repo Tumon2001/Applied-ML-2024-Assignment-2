{
 "cells": [
  {
   "cell_type": "markdown",
   "metadata": {},
   "source": [
    "# Importing necessary libraries"
   ]
  },
  {
   "cell_type": "code",
   "execution_count": null,
   "metadata": {},
   "outputs": [],
   "source": [
    "import mlflow\n",
    "from sklearn.metrics import average_precision_score\n",
    "from sklearn.model_selection import train_test_split\n",
    "from sklearn.linear_model import LogisticRegression\n",
    "from sklearn.ensemble import RandomForestClassifier\n",
    "from sklearn.svm import SVC"
   ]
  },
  {
   "cell_type": "markdown",
   "metadata": {},
   "source": [
    "# Setting up MLflow tracking"
   ]
  },
  {
   "cell_type": "code",
   "execution_count": null,
   "metadata": {},
   "outputs": [],
   "source": [
    "mlflow.start_run()"
   ]
  },
  {
   "cell_type": "markdown",
   "metadata": {},
   "source": [
    "# Building and tracking three benchmarks models"
   ]
  },
  {
   "cell_type": "code",
   "execution_count": null,
   "metadata": {},
   "outputs": [],
   "source": [
    "from sklearn.metrics import average_precision_score\n",
    "from sklearn.model_selection import train_test_split\n",
    "from sklearn.linear_model import LogisticRegression\n",
    "from sklearn.ensemble import RandomForestClassifier\n",
    "from sklearn.svm import SVC\n",
    "\n",
    "# Assuming X_train, X_test, y_train, y_test are your training and testing data\n",
    "\n",
    "# Model 1: Logistic Regression\n",
    "lr_model = LogisticRegression()\n",
    "lr_model.fit(X_train, y_train)\n",
    "lr_preds = lr_model.predict_proba(X_test)[:, 1]\n",
    "lr_aucpr = average_precision_score(y_test, lr_preds)\n",
    "mlflow.log_metric(\"AUCPR_LR\", lr_aucpr)\n",
    "\n",
    "# Model 2: Random Forest\n",
    "rf_model = RandomForestClassifier()\n",
    "rf_model.fit(X_train, y_train)\n",
    "rf_preds = rf_model.predict_proba(X_test)[:, 1]\n",
    "rf_aucpr = average_precision_score(y_test, rf_preds)\n",
    "mlflow.log_metric(\"AUCPR_RF\", rf_aucpr)\n",
    "\n",
    "# Model 3: Support Vector Machine\n",
    "svm_model = SVC(probability=True)\n",
    "svm_model.fit(X_train, y_train)\n",
    "svm_preds = svm_model.predict_proba(X_test)[:, 1]\n",
    "svm_aucpr = average_precision_score(y_test, svm_preds)\n",
    "mlflow.log_metric(\"AUCPR_SVM\", svm_aucpr)"
   ]
  },
  {
   "cell_type": "markdown",
   "metadata": {},
   "source": [
    "# Registering model versions"
   ]
  },
  {
   "cell_type": "code",
   "execution_count": null,
   "metadata": {},
   "outputs": [],
   "source": [
    "mlflow.sklearn.log_model(lr_model, \"logistic_regression_model\")\n",
    "mlflow.sklearn.log_model(rf_model, \"random_forest_model\")\n",
    "mlflow.sklearn.log_model(svm_model, \"svm_model\")"
   ]
  },
  {
   "cell_type": "markdown",
   "metadata": {},
   "source": [
    "# Checking out and printing AUCPR for all three models"
   ]
  },
  {
   "cell_type": "code",
   "execution_count": null,
   "metadata": {},
   "outputs": [],
   "source": [
    "runs = mlflow.search_runs()\n",
    "\n",
    "for index, row in runs.iterrows():\n",
    "    print(f\"Model: {row['tags.mlflow.runName']} - AUCPR: {row['metrics.AUCPR_LR']}\")  # Change LR to RF and SVM accordingly"
   ]
  }
 ],
 "metadata": {
  "kernelspec": {
   "display_name": "AML_HW_1",
   "language": "python",
   "name": "python3"
  },
  "language_info": {
   "name": "python",
   "version": "3.11.6"
  }
 },
 "nbformat": 4,
 "nbformat_minor": 2
}
